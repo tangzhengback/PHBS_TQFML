{
 "cells": [
  {
   "cell_type": "code",
   "execution_count": 42,
   "metadata": {},
   "outputs": [],
   "source": [
    "import pandas as pd\n",
    "import numpy as np\n",
    "import pandas as pd\n",
    "from sklearn import datasets\n",
    "from sklearn import preprocessing\n",
    "from sklearn.model_selection import train_test_split\n",
    "from sklearn.metrics import accuracy_score"
   ]
  },
  {
   "cell_type": "markdown",
   "metadata": {},
   "source": [
    "# 1 Preprocessing Data"
   ]
  },
  {
   "cell_type": "code",
   "execution_count": 43,
   "metadata": {
    "scrolled": true
   },
   "outputs": [
    {
     "name": "stdout",
     "output_type": "stream",
     "text": [
      "<class 'pandas.core.frame.DataFrame'>\n",
      "RangeIndex: 4521 entries, 0 to 4520\n",
      "Data columns (total 17 columns):\n",
      "age          4521 non-null int64\n",
      "job          4521 non-null object\n",
      "marital      4521 non-null object\n",
      "education    4521 non-null object\n",
      "default      4521 non-null object\n",
      "balance      4521 non-null int64\n",
      "housing      4521 non-null object\n",
      "loan         4521 non-null object\n",
      "contact      4521 non-null object\n",
      "day          4521 non-null int64\n",
      "month        4521 non-null object\n",
      "duration     4521 non-null int64\n",
      "campaign     4521 non-null int64\n",
      "pdays        4521 non-null int64\n",
      "previous     4521 non-null int64\n",
      "poutcome     4521 non-null object\n",
      "y            4521 non-null object\n",
      "dtypes: int64(7), object(10)\n",
      "memory usage: 600.5+ KB\n"
     ]
    }
   ],
   "source": [
    "input_data_path=\"bank.csv\"\n",
    "data=pd.read_csv(input_data_path,sep=';')\n",
    "data.info()"
   ]
  },
  {
   "cell_type": "code",
   "execution_count": 44,
   "metadata": {},
   "outputs": [
    {
     "data": {
      "text/html": [
       "<div>\n",
       "<style scoped>\n",
       "    .dataframe tbody tr th:only-of-type {\n",
       "        vertical-align: middle;\n",
       "    }\n",
       "\n",
       "    .dataframe tbody tr th {\n",
       "        vertical-align: top;\n",
       "    }\n",
       "\n",
       "    .dataframe thead th {\n",
       "        text-align: right;\n",
       "    }\n",
       "</style>\n",
       "<table border=\"1\" class=\"dataframe\">\n",
       "  <thead>\n",
       "    <tr style=\"text-align: right;\">\n",
       "      <th></th>\n",
       "      <th>age</th>\n",
       "      <th>balance</th>\n",
       "      <th>day</th>\n",
       "      <th>duration</th>\n",
       "      <th>campaign</th>\n",
       "      <th>pdays</th>\n",
       "      <th>previous</th>\n",
       "    </tr>\n",
       "  </thead>\n",
       "  <tbody>\n",
       "    <tr>\n",
       "      <th>count</th>\n",
       "      <td>4521.000000</td>\n",
       "      <td>4521.000000</td>\n",
       "      <td>4521.000000</td>\n",
       "      <td>4521.000000</td>\n",
       "      <td>4521.000000</td>\n",
       "      <td>4521.000000</td>\n",
       "      <td>4521.000000</td>\n",
       "    </tr>\n",
       "    <tr>\n",
       "      <th>mean</th>\n",
       "      <td>41.170095</td>\n",
       "      <td>1422.657819</td>\n",
       "      <td>15.915284</td>\n",
       "      <td>263.961292</td>\n",
       "      <td>2.793630</td>\n",
       "      <td>39.766645</td>\n",
       "      <td>0.542579</td>\n",
       "    </tr>\n",
       "    <tr>\n",
       "      <th>std</th>\n",
       "      <td>10.576211</td>\n",
       "      <td>3009.638142</td>\n",
       "      <td>8.247667</td>\n",
       "      <td>259.856633</td>\n",
       "      <td>3.109807</td>\n",
       "      <td>100.121124</td>\n",
       "      <td>1.693562</td>\n",
       "    </tr>\n",
       "    <tr>\n",
       "      <th>min</th>\n",
       "      <td>19.000000</td>\n",
       "      <td>-3313.000000</td>\n",
       "      <td>1.000000</td>\n",
       "      <td>4.000000</td>\n",
       "      <td>1.000000</td>\n",
       "      <td>-1.000000</td>\n",
       "      <td>0.000000</td>\n",
       "    </tr>\n",
       "    <tr>\n",
       "      <th>25%</th>\n",
       "      <td>33.000000</td>\n",
       "      <td>69.000000</td>\n",
       "      <td>9.000000</td>\n",
       "      <td>104.000000</td>\n",
       "      <td>1.000000</td>\n",
       "      <td>-1.000000</td>\n",
       "      <td>0.000000</td>\n",
       "    </tr>\n",
       "    <tr>\n",
       "      <th>50%</th>\n",
       "      <td>39.000000</td>\n",
       "      <td>444.000000</td>\n",
       "      <td>16.000000</td>\n",
       "      <td>185.000000</td>\n",
       "      <td>2.000000</td>\n",
       "      <td>-1.000000</td>\n",
       "      <td>0.000000</td>\n",
       "    </tr>\n",
       "    <tr>\n",
       "      <th>75%</th>\n",
       "      <td>49.000000</td>\n",
       "      <td>1480.000000</td>\n",
       "      <td>21.000000</td>\n",
       "      <td>329.000000</td>\n",
       "      <td>3.000000</td>\n",
       "      <td>-1.000000</td>\n",
       "      <td>0.000000</td>\n",
       "    </tr>\n",
       "    <tr>\n",
       "      <th>max</th>\n",
       "      <td>87.000000</td>\n",
       "      <td>71188.000000</td>\n",
       "      <td>31.000000</td>\n",
       "      <td>3025.000000</td>\n",
       "      <td>50.000000</td>\n",
       "      <td>871.000000</td>\n",
       "      <td>25.000000</td>\n",
       "    </tr>\n",
       "  </tbody>\n",
       "</table>\n",
       "</div>"
      ],
      "text/plain": [
       "               age       balance          day     duration     campaign  \\\n",
       "count  4521.000000   4521.000000  4521.000000  4521.000000  4521.000000   \n",
       "mean     41.170095   1422.657819    15.915284   263.961292     2.793630   \n",
       "std      10.576211   3009.638142     8.247667   259.856633     3.109807   \n",
       "min      19.000000  -3313.000000     1.000000     4.000000     1.000000   \n",
       "25%      33.000000     69.000000     9.000000   104.000000     1.000000   \n",
       "50%      39.000000    444.000000    16.000000   185.000000     2.000000   \n",
       "75%      49.000000   1480.000000    21.000000   329.000000     3.000000   \n",
       "max      87.000000  71188.000000    31.000000  3025.000000    50.000000   \n",
       "\n",
       "             pdays     previous  \n",
       "count  4521.000000  4521.000000  \n",
       "mean     39.766645     0.542579  \n",
       "std     100.121124     1.693562  \n",
       "min      -1.000000     0.000000  \n",
       "25%      -1.000000     0.000000  \n",
       "50%      -1.000000     0.000000  \n",
       "75%      -1.000000     0.000000  \n",
       "max     871.000000    25.000000  "
      ]
     },
     "execution_count": 44,
     "metadata": {},
     "output_type": "execute_result"
    }
   ],
   "source": [
    "data.describe()"
   ]
  },
  {
   "cell_type": "code",
   "execution_count": 45,
   "metadata": {},
   "outputs": [
    {
     "data": {
      "text/plain": [
       "age          False\n",
       "job          False\n",
       "marital      False\n",
       "education    False\n",
       "default      False\n",
       "balance      False\n",
       "housing      False\n",
       "loan         False\n",
       "contact      False\n",
       "day          False\n",
       "month        False\n",
       "duration     False\n",
       "campaign     False\n",
       "pdays        False\n",
       "previous     False\n",
       "poutcome     False\n",
       "y            False\n",
       "dtype: bool"
      ]
     },
     "execution_count": 45,
     "metadata": {},
     "output_type": "execute_result"
    }
   ],
   "source": [
    "data.isnull().any()"
   ]
  },
  {
   "cell_type": "markdown",
   "metadata": {},
   "source": [
    "- Count 'unknown' values for every feature. "
   ]
  },
  {
   "cell_type": "code",
   "execution_count": 46,
   "metadata": {
    "scrolled": true
   },
   "outputs": [
    {
     "name": "stdout",
     "output_type": "stream",
     "text": [
      "unknown value count in job:\t38\n",
      "unknown value count in marital:\t0\n",
      "unknown value count in education:\t187\n",
      "unknown value count in default:\t0\n",
      "unknown value count in housing:\t0\n",
      "unknown value count in loan:\t0\n",
      "unknown value count in contact:\t1324\n",
      "unknown value count in month:\t0\n",
      "unknown value count in poutcome:\t3705\n",
      "unknown value count in y:\t0\n"
     ]
    }
   ],
   "source": [
    "for i in data.columns:\n",
    "    if type(data[i][0])is str:\n",
    "        print(\"unknown value count in \"+i+\":\\t\"+str(data[data[i]=='unknown']['y'].count()))"
   ]
  },
  {
   "cell_type": "markdown",
   "metadata": {},
   "source": [
    "- Notice that there are 'unknown' values"
   ]
  },
  {
   "cell_type": "code",
   "execution_count": 47,
   "metadata": {},
   "outputs": [],
   "source": [
    "data = data[data['job']!= 'unknown']\n",
    "data=data[data['education']!='unknown']\n",
    "data.contact[data.contact=='unknown']=data.contact[data.contact!='unknown'].mode().values\n",
    "data.poutcome[data.poutcome=='unknown']=data.poutcome[data.poutcome!='unknown'].mode().values"
   ]
  },
  {
   "cell_type": "code",
   "execution_count": 48,
   "metadata": {},
   "outputs": [],
   "source": [
    "monthdict = {'dec': 12, 'nov': 11,'oct': 10, 'sep': 9,'aug': 8, 'jul': 7, 'jun': 6, 'may': 5,'apr': 4, 'mar': 3, 'feb': 2, 'jan': 1}\n",
    "timeseq = [monthdict[i] * 100 + j for i, j in zip(list(data['month']), list(data['day']))]\n",
    "data['time'] = timeseq\n",
    "data = data.drop(['month', 'day'], axis = 1)\n",
    "def obj_convert(coln):\n",
    "    categories = pd.unique(coln)\n",
    "    catcount = len(categories)\n",
    "    dictvalues = list(range(catcount))\n",
    "    catdict = dict(zip(categories, dictvalues))\n",
    "    coln = coln.map(lambda x : catdict[x])\n",
    "    return coln\n",
    "obj_features = ['job', 'marital', 'education', 'default', 'loan', 'housing', 'contact', 'poutcome', 'y']\n",
    "for i in obj_features:\n",
    "    data[i] = obj_convert(data[i])"
   ]
  },
  {
   "cell_type": "code",
   "execution_count": 49,
   "metadata": {},
   "outputs": [
    {
     "name": "stderr",
     "output_type": "stream",
     "text": [
      "C:\\Users\\tangzhengback\\Anaconda3\\lib\\site-packages\\sklearn\\utils\\validation.py:475: DataConversionWarning: Data with input dtype int64 was converted to float64 by MinMaxScaler.\n",
      "  warnings.warn(msg, DataConversionWarning)\n"
     ]
    }
   ],
   "source": [
    "y = data.pop('y')\n",
    "column_names = data.columns.values.tolist()\n",
    "df = data.values\n",
    "min_max_scaler = preprocessing.MinMaxScaler()\n",
    "df_scaled = min_max_scaler.fit_transform(df)\n",
    "df = pd.DataFrame(df_scaled)\n",
    "c = dict(zip(range(data.columns.size),column_names))\n",
    "df = df.rename(mapper = c, axis = 'columns')\n",
    "X_train, X_test, y_train, y_test = train_test_split(df, y, test_size=0.3, random_state=1, stratify=y)"
   ]
  },
  {
   "cell_type": "markdown",
   "metadata": {},
   "source": [
    "- Define plot_decision_regions function."
   ]
  },
  {
   "cell_type": "code",
   "execution_count": 50,
   "metadata": {},
   "outputs": [],
   "source": [
    "from matplotlib.colors import ListedColormap\n",
    "import matplotlib.pyplot as plt\n",
    "\n",
    "\n",
    "def plot_decision_regions(X, y, classifier, test_idx=None, resolution=0.02):\n",
    "\n",
    "    # setup marker generator and color map\n",
    "    markers = ('s', 'x', 'o', '^', 'v')\n",
    "    colors = ('red', 'blue', 'lightgreen', 'gray', 'cyan')\n",
    "    cmap = ListedColormap(colors[:len(np.unique(y))])\n",
    "\n",
    "    # plot the decision surface\n",
    "    x1_min, x1_max = X[:, 0].min() - 1, X[:, 0].max() + 1\n",
    "    x2_min, x2_max = X[:, 1].min() - 1, X[:, 1].max() + 1\n",
    "    xx1, xx2 = np.meshgrid(np.arange(x1_min, x1_max, resolution),\n",
    "                           np.arange(x2_min, x2_max, resolution))\n",
    "    Z = classifier.predict(np.array([xx1.ravel(), xx2.ravel()]).T)\n",
    "    Z = Z.reshape(xx1.shape)\n",
    "    plt.contourf(xx1, xx2, Z, alpha=0.3, cmap=cmap)\n",
    "    plt.xlim(xx1.min(), xx1.max())\n",
    "    plt.ylim(xx2.min(), xx2.max())\n",
    "\n",
    "    for idx, cl in enumerate(np.unique(y)):\n",
    "        plt.scatter(x=X[y == cl, 0], \n",
    "                    y=X[y == cl, 1],\n",
    "                    alpha=0.8, \n",
    "                    c=colors[idx],\n",
    "                    marker=markers[idx], \n",
    "                    label=cl, \n",
    "                    edgecolor='black')\n",
    "\n",
    "    # highlight test samples\n",
    "    if test_idx:\n",
    "        # plot all samples\n",
    "        X_test, y_test = X[test_idx, :], y[test_idx]\n",
    "\n",
    "        plt.scatter(X_test[:, 0],\n",
    "                    X_test[:, 1],\n",
    "                    c='',\n",
    "                    edgecolor='black',\n",
    "                    alpha=1.0,\n",
    "                    linewidth=1,\n",
    "                    marker='o',\n",
    "                    s=100, \n",
    "                    label='test set')"
   ]
  },
  {
   "cell_type": "markdown",
   "metadata": {},
   "source": [
    "# 2.1 Perceptron"
   ]
  },
  {
   "cell_type": "code",
   "execution_count": 51,
   "metadata": {},
   "outputs": [
    {
     "name": "stdout",
     "output_type": "stream",
     "text": [
      "[['job', 'housing'], [1, 6], 0.884853168469861]\n"
     ]
    },
    {
     "data": {
      "image/png": "[encoded data removed]",
      "text/plain": [
       "<matplotlib.figure.Figure at 0x236dda4d550>"
      ]
     },
     "metadata": {},
     "output_type": "display_data"
    }
   ],
   "source": [
    "from sklearn.linear_model import Perceptron\n",
    "\n",
    "#Selection of the best two features\n",
    "def find_best_features(X_train, X_test, y_train, y_test):\n",
    "    best_score = 0\n",
    "    column_names = X_train.columns.values.tolist()\n",
    "    c = dict(zip(range(X_train.columns.size),column_names))\n",
    "    for ii in range(X_train.columns.size):\n",
    "        for jj in range(X_train.columns.size):\n",
    "            if jj > ii:\n",
    "                ppn = Perceptron(max_iter=100, eta0=0.1, random_state=1)\n",
    "                ppn.fit(X_train[[c[ii],c[jj]]], y_train)\n",
    "                y_pred = ppn.predict(X_test[[c[ii],c[jj]]])\n",
    "                score = accuracy_score(y_test, y_pred)\n",
    "                if score > best_score:\n",
    "                    best_score = score\n",
    "                    best_features = [c[ii],c[jj]]\n",
    "                    idx1 = ii\n",
    "                    idx2 = jj\n",
    "    return [best_features, [idx1, idx2], best_score]\n",
    "output = find_best_features(X_train, X_test, y_train, y_test)\n",
    "print(output)\n",
    "\n",
    "#Plot\n",
    "def plot_best_feature(output, X_train, X_test, y_train, y_test):\n",
    "    ppn = Perceptron(max_iter=100, eta0=0.1, random_state=1)\n",
    "    ppn.fit(X_train[output[0]], y_train)\n",
    "    X_combined = np.vstack((X_train[output[0]], X_test[output[0]]))\n",
    "    y_combined = np.hstack((y_train, y_test))\n",
    "    plot_decision_regions(X=X_combined, y=y_combined,classifier=ppn, test_idx=range(105, 150))\n",
    "    plt.xlabel(output[0][0])\n",
    "    plt.ylabel(output[0][1])\n",
    "    plt.legend(loc='upper left')\n",
    "    plt.tight_layout()\n",
    "    plt.show()\n",
    "plot_best_feature(output, X_train, X_test, y_train, y_test)"
   ]
  },
  {
   "cell_type": "markdown",
   "metadata": {},
   "source": [
    "# 2.2 Logistic Regression"
   ]
  },
  {
   "cell_type": "code",
   "execution_count": 52,
   "metadata": {},
   "outputs": [
    {
     "name": "stdout",
     "output_type": "stream",
     "text": [
      "[['duration', 'poutcome'], [9, 13], 0.901854714064915]\n"
     ]
    },
    {
     "data": {
      "image/png": "[encoded data removed]",
      "text/plain": [
       "<matplotlib.figure.Figure at 0x236ddd8b828>"
      ]
     },
     "metadata": {},
     "output_type": "display_data"
    }
   ],
   "source": [
    "from sklearn.linear_model import LogisticRegression\n",
    "\n",
    "#Selection of the best two features\n",
    "def find_best_features(X_train, X_test, y_train, y_test):\n",
    "    best_score = 0\n",
    "    column_names = X_train.columns.values.tolist()\n",
    "    c = dict(zip(range(X_train.columns.size),column_names))\n",
    "    for ii in range(X_train.columns.size):\n",
    "        for jj in range(X_train.columns.size):\n",
    "            if jj > ii:\n",
    "                lr = LogisticRegression(C=100, random_state=1)\n",
    "                lr.fit(X_train[[c[ii],c[jj]]], y_train)\n",
    "                y_pred = lr.predict(X_test[[c[ii],c[jj]]])\n",
    "                score = accuracy_score(y_test, y_pred)\n",
    "                if score > best_score:\n",
    "                    best_score = score\n",
    "                    best_features = [c[ii],c[jj]]\n",
    "                    idx1 = ii\n",
    "                    idx2 = jj\n",
    "    return [best_features, [idx1, idx2], best_score]\n",
    "output = find_best_features(X_train, X_test, y_train, y_test)\n",
    "print(output)\n",
    "\n",
    "#Plot\n",
    "def plot_best_feature(output, X_train, X_test, y_train, y_test):\n",
    "    lr = LogisticRegression(C=100, random_state=1)\n",
    "    lr.fit(X_train[output[0]], y_train)    \n",
    "    X_combined = np.vstack((X_train[output[0]], X_test[output[0]]))\n",
    "    y_combined = np.hstack((y_train, y_test))    \n",
    "    plot_decision_regions(X=X_combined, y=y_combined,classifier=lr, test_idx=range(105, 150))\n",
    "    plt.xlabel(output[0][0])\n",
    "    plt.ylabel(output[0][1])\n",
    "    plt.legend(loc='upper left')\n",
    "    plt.tight_layout()\n",
    "    plt.show()    \n",
    "plot_best_feature(output, X_train, X_test, y_train, y_test)"
   ]
  },
  {
   "cell_type": "markdown",
   "metadata": {},
   "source": [
    "# 2.3 SVM (linear)"
   ]
  },
  {
   "cell_type": "code",
   "execution_count": 54,
   "metadata": {},
   "outputs": [
    {
     "name": "stdout",
     "output_type": "stream",
     "text": [
      "[['age', 'job'], [0, 1], 0.884853168469861]\n"
     ]
    },
    {
     "data": {
      "image/png": "[encoded data removed]",
      "text/plain": [
       "<matplotlib.figure.Figure at 0x236deea5f60>"
      ]
     },
     "metadata": {},
     "output_type": "display_data"
    }
   ],
   "source": [
    "from sklearn.svm import SVC\n",
    "\n",
    "#Selection of the best two features\n",
    "def find_best_features(X_train, X_test, y_train, y_test):\n",
    "    best_score = 0\n",
    "    column_names = X_train.columns.values.tolist()\n",
    "    c = dict(zip(range(X_train.columns.size),column_names))\n",
    "    for ii in range(X_train.columns.size):\n",
    "        for jj in range(X_train.columns.size):\n",
    "            if jj > ii:\n",
    "                svm = SVC(kernel='linear', C=5.0, random_state=1)\n",
    "                svm.fit(X_train[[c[ii],c[jj]]], y_train)\n",
    "                y_pred = svm.predict(X_test[[c[ii],c[jj]]])\n",
    "                score = accuracy_score(y_test, y_pred)\n",
    "                if score > best_score:\n",
    "                    best_score = score\n",
    "                    best_features = [c[ii],c[jj]]\n",
    "                    idx1 = ii\n",
    "                    idx2 = jj\n",
    "    return [best_features, [idx1, idx2], best_score]\n",
    "output = find_best_features(X_train, X_test, y_train, y_test)\n",
    "print(output)\n",
    "\n",
    "#Plot\n",
    "def plot_best_feature(output, X_train, X_test, y_train, y_test):\n",
    "    svm = SVC(kernel='linear', C=5.0, random_state=1)\n",
    "    svm.fit(X_train[output[0]], y_train)    \n",
    "    X_combined = np.vstack((X_train[output[0]], X_test[output[0]]))\n",
    "    y_combined = np.hstack((y_train, y_test))    \n",
    "    plot_decision_regions(X=X_combined, y=y_combined,classifier=svm, test_idx=range(105, 150))\n",
    "    plt.xlabel(output[0][0])\n",
    "    plt.ylabel(output[0][1])\n",
    "    plt.legend(loc='upper left')\n",
    "    plt.tight_layout()\n",
    "    plt.show()\n",
    "plot_best_feature(output, X_train, X_test, y_train, y_test)"
   ]
  },
  {
   "cell_type": "markdown",
   "metadata": {},
   "source": [
    "# 2.4 SVM(rbf)"
   ]
  },
  {
   "cell_type": "code",
   "execution_count": 55,
   "metadata": {},
   "outputs": [
    {
     "name": "stdout",
     "output_type": "stream",
     "text": [
      "[['age', 'poutcome'], [0, 13], 0.893353941267388]\n"
     ]
    },
    {
     "data": {
      "image/png": "[encoded data removed]",
      "text/plain": [
       "<matplotlib.figure.Figure at 0x236dd03a048>"
      ]
     },
     "metadata": {},
     "output_type": "display_data"
    }
   ],
   "source": [
    "from sklearn.svm import SVC\n",
    "\n",
    "#Selection of the best two features\n",
    "def find_best_features(X_train, X_test, y_train, y_test):\n",
    "    best_score = 0\n",
    "    column_names = X_train.columns.values.tolist()\n",
    "    c = dict(zip(range(X_train.columns.size),column_names))\n",
    "    for ii in range(X_train.columns.size):\n",
    "        for jj in range(X_train.columns.size):\n",
    "            if jj > ii:\n",
    "                svm = SVC(kernel='rbf', random_state=1, gamma=0.10, C=10.0)\n",
    "                svm.fit(X_train[[c[ii],c[jj]]], y_train)\n",
    "                y_pred = svm.predict(X_test[[c[ii],c[jj]]])\n",
    "                score = accuracy_score(y_test, y_pred)\n",
    "                if score > best_score:\n",
    "                    best_score = score\n",
    "                    best_features = [c[ii],c[jj]]\n",
    "                    idx1 = ii\n",
    "                    idx2 = jj\n",
    "    return [best_features, [idx1, idx2], best_score]\n",
    "output = find_best_features(X_train, X_test, y_train, y_test)\n",
    "print(output)\n",
    "\n",
    "#Plot\n",
    "def plot_best_feature(output, X_train, X_test, y_train, y_test):\n",
    "    svm = SVC(kernel='rbf', random_state=1, gamma=0.10, C=10.0)\n",
    "    svm.fit(X_train[output[0]], y_train)    \n",
    "    X_combined = np.vstack((X_train[output[0]], X_test[output[0]]))\n",
    "    y_combined = np.hstack((y_train, y_test))    \n",
    "    plot_decision_regions(X=X_combined, y=y_combined,\n",
    "                      classifier=svm, test_idx=range(105, 150))\n",
    "    plt.xlabel(output[0][0])\n",
    "    plt.ylabel(output[0][1])\n",
    "    plt.legend(loc='upper left')\n",
    "    plt.tight_layout()\n",
    "    plt.show()\n",
    "plot_best_feature(output, X_train, X_test, y_train, y_test)"
   ]
  },
  {
   "cell_type": "markdown",
   "metadata": {},
   "source": [
    "# 2.5 KNN"
   ]
  },
  {
   "cell_type": "code",
   "execution_count": 58,
   "metadata": {},
   "outputs": [
    {
     "name": "stdout",
     "output_type": "stream",
     "text": [
      "[['duration', 'poutcome'], [9, 13], 0.8948995363214838]\n"
     ]
    },
    {
     "data": {
      "image/png": "[encoded data removed]",
      "text/plain": [
       "<matplotlib.figure.Figure at 0x236df046c50>"
      ]
     },
     "metadata": {},
     "output_type": "display_data"
    }
   ],
   "source": [
    "from sklearn.neighbors import KNeighborsClassifier\n",
    "\n",
    "#Selection of the best two features\n",
    "def find_best_features(X_train, X_test, y_train, y_test):\n",
    "    best_score = 0\n",
    "    column_names = X_train.columns.values.tolist()\n",
    "    c = dict(zip(range(X_train.columns.size),column_names))\n",
    "    for ii in range(X_train.columns.size):\n",
    "        for jj in range(X_train.columns.size):\n",
    "            if jj > ii:\n",
    "                knn = KNeighborsClassifier(n_neighbors=5,p=2,metric='minkowski')\n",
    "                knn.fit(X_train[[c[ii],c[jj]]], y_train)\n",
    "                y_pred = knn.predict(X_test[[c[ii],c[jj]]])\n",
    "                score = accuracy_score(y_test, y_pred)\n",
    "                if score > best_score:\n",
    "                    best_score = score\n",
    "                    best_features = [c[ii],c[jj]]\n",
    "                    idx1 = ii\n",
    "                    idx2 = jj\n",
    "    return [best_features, [idx1, idx2], best_score]\n",
    "output = find_best_features(X_train, X_test, y_train, y_test)\n",
    "print(output)\n",
    "\n",
    "#Plot\n",
    "def plot_best_feature(output, X_train, X_test, y_train, y_test):\n",
    "    knn = KNeighborsClassifier(n_neighbors=5,p=2,metric='minkowski')\n",
    "    knn.fit(X_train[output[0]], y_train)    \n",
    "    X_combined = np.vstack((X_train[output[0]], X_test[output[0]]))\n",
    "    y_combined = np.hstack((y_train, y_test))    \n",
    "    plot_decision_regions(X=X_combined, y=y_combined,classifier=knn, test_idx=range(105, 150))\n",
    "    plt.xlabel(output[0][0])\n",
    "    plt.ylabel(output[0][1])\n",
    "    plt.legend(loc='upper left')\n",
    "    plt.tight_layout()\n",
    "    plt.show()    \n",
    "plot_best_feature(output, X_train, X_test, y_train, y_test)"
   ]
  },
  {
   "cell_type": "markdown",
   "metadata": {},
   "source": [
    "# 2.6 Decision Tree"
   ]
  },
  {
   "cell_type": "code",
   "execution_count": 57,
   "metadata": {},
   "outputs": [
    {
     "name": "stdout",
     "output_type": "stream",
     "text": [
      "[['marital', 'poutcome'], [2, 13], 0.893353941267388]\n"
     ]
    },
    {
     "data": {
      "image/png": "[encoded data removed]",
      "text/plain": [
       "<matplotlib.figure.Figure at 0x236df012cc0>"
      ]
     },
     "metadata": {},
     "output_type": "display_data"
    }
   ],
   "source": [
    "from sklearn.tree import DecisionTreeClassifier\n",
    "\n",
    "#Selection of the best two features\n",
    "def find_best_features(X_train, X_test, y_train, y_test):\n",
    "    best_score = 0\n",
    "    column_names = X_train.columns.values.tolist()\n",
    "    c = dict(zip(range(X_train.columns.size),column_names))\n",
    "    for ii in range(X_train.columns.size):\n",
    "        for jj in range(X_train.columns.size):\n",
    "            if jj > ii:\n",
    "                tree = DecisionTreeClassifier(criterion='gini',max_depth=4,random_state=1)\n",
    "                tree.fit(X_train[[c[ii],c[jj]]], y_train)\n",
    "                y_pred = tree.predict(X_test[[c[ii],c[jj]]])\n",
    "                score = accuracy_score(y_test, y_pred)\n",
    "                if score > best_score:\n",
    "                    best_score = score\n",
    "                    best_features = [c[ii],c[jj]]\n",
    "                    idx1 = ii\n",
    "                    idx2 = jj\n",
    "    return [best_features, [idx1, idx2], best_score]\n",
    "output = find_best_features(X_train, X_test, y_train, y_test)\n",
    "print(output)\n",
    "\n",
    "#Plot\n",
    "def plot_best_feature(output, X_train, X_test, y_train, y_test):\n",
    "    tree = DecisionTreeClassifier(criterion='gini',max_depth=4,random_state=1)\n",
    "    tree.fit(X_train[output[0]], y_train)    \n",
    "    X_combined = np.vstack((X_train[output[0]], X_test[output[0]]))\n",
    "    y_combined = np.hstack((y_train, y_test))    \n",
    "    plot_decision_regions(X=X_combined, y=y_combined,classifier=tree, test_idx=range(105, 150))\n",
    "    plt.xlabel(output[0][0])\n",
    "    plt.ylabel(output[0][1])\n",
    "    plt.legend(loc='upper left')\n",
    "    plt.tight_layout()\n",
    "    plt.show()    \n",
    "plot_best_feature(output, X_train, X_test, y_train, y_test)"
   ]
  },
  {
   "cell_type": "markdown",
   "metadata": {},
   "source": [
    "# 3 Summary"
   ]
  },
  {
   "cell_type": "markdown",
   "metadata": {},
   "source": [
    "- Perceptron:['job', 'housing'], [1, 6], 0.884853168469861]\n",
    "- Logistic Regression:['duration', 'poutcome'], [9, 13], 0.901854714064915]\n",
    "- SVM(linear):['age', 'job'], [0, 1], 0.884853168469861]\n",
    "- SVM(rbf):['age', 'poutcome'], [0, 13], 0.893353941267388]\n",
    "- KNN:['duration', 'poutcome'], [9, 13], 0.8948995363214838]\n",
    "- Decision Tree:['marital', 'poutcome'], [2, 13], 0.893353941267388]\n",
    "\n",
    "As the results suggest, Logistic regression model performs best among other models, with more than 90% accuracy.\n"
   ]
  }
 ],
 "metadata": {
  "kernelspec": {
   "display_name": "Python 3",
   "language": "python",
   "name": "python3"
  },
  "language_info": {
   "codemirror_mode": {
    "name": "ipython",
    "version": 3
   },
   "file_extension": ".py",
   "mimetype": "text/x-python",
   "name": "python",
   "nbconvert_exporter": "python",
   "pygments_lexer": "ipython3",
   "version": "3.6.4"
  }
 },
 "nbformat": 4,
 "nbformat_minor": 2
}
